{
 "cells": [
  {
   "cell_type": "markdown",
   "metadata": {},
   "source": [
    "## Циклы (продолжение)"
   ]
  },
  {
   "cell_type": "markdown",
   "metadata": {},
   "source": [
    "### Задание\n",
    "1. Найти максимальный элемент в массиве 'a' с помощью цикла for  \n",
    "2. Найти количество положительных чисел в массиве a\n",
    "3. Найти сумму всех чисел в массиве а\n",
    "4. Найти среднее значение\n",
    "5. Найти максимальное количество подряд идущих букв D в массиве b "
   ]
  },
  {
   "cell_type": "code",
   "execution_count": null,
   "metadata": {},
   "outputs": [
    {
     "name": "stdout",
     "output_type": "stream",
     "text": [
      "777\n",
      "777\n",
      "6\n",
      "37.09090909090909\n"
     ]
    }
   ],
   "source": [
    "a = [1, 2, -2, -99, 10, 98, -423, 45, -1, 0, 777]\n",
    "#1\n",
    "print(max(a))\n",
    "b = a[0]\n",
    "for el in a:\n",
    "    if b<el:\n",
    "        b=el\n",
    "print(b)\n",
    "#2\n",
    "v=0\n",
    "for el in a:\n",
    "    if el>0:\n",
    "        v=v+1\n",
    "print(v)\n",
    "#3\n",
    "v=0\n",
    "for el in a:\n",
    "    v=(v+el)\n",
    "v=v/len(a)\n",
    "print(v)\n"
   ]
  },
  {
   "cell_type": "code",
   "execution_count": null,
   "metadata": {},
   "outputs": [
    {
     "name": "stdout",
     "output_type": "stream",
     "text": [
      "5\n"
     ]
    }
   ],
   "source": [
    "b = 'ABCDDDDCDEFDDDDDCBF'\n",
    "v=1\n",
    "a=0\n",
    "\n",
    "for i in range(0, len(b)-1):\n",
    "    if b[i] == b[i+1] and b[i] == 'D':\n",
    "        v=v+1\n",
    "    else:\n",
    "        if v>a:\n",
    "            a=v\n",
    "        v=1\n",
    "print(a)"
   ]
  },
  {
   "cell_type": "code",
   "execution_count": null,
   "metadata": {},
   "outputs": [
    {
     "name": "stdout",
     "output_type": "stream",
     "text": [
      "7\n"
     ]
    }
   ],
   "source": [
    "# Дана строка s. Найти индекс первого нуля в строке\n",
    "s = '123489602134'"
   ]
  },
  {
   "cell_type": "code",
   "execution_count": null,
   "metadata": {},
   "outputs": [],
   "source": [
    "# Проверь число пользователя на простоту"
   ]
  },
  {
   "cell_type": "code",
   "execution_count": null,
   "metadata": {},
   "outputs": [
    {
     "name": "stdout",
     "output_type": "stream",
     "text": [
      "2015\n"
     ]
    }
   ],
   "source": [
    "# Сколько четверок содержится в пятеричной записи выражения a\n",
    "a = 25**2020+5**2017-15"
   ]
  }
 ],
 "metadata": {
  "kernelspec": {
   "display_name": "Python 3",
   "language": "python",
   "name": "python3"
  },
  "language_info": {
   "codemirror_mode": {
    "name": "ipython",
    "version": 3
   },
   "file_extension": ".py",
   "mimetype": "text/x-python",
   "name": "python",
   "nbconvert_exporter": "python",
   "pygments_lexer": "ipython3",
   "version": "3.11.0"
  }
 },
 "nbformat": 4,
 "nbformat_minor": 2
}
