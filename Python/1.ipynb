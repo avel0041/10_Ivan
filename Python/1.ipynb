{
 "cells": [
  {
   "cell_type": "code",
   "execution_count": 3,
   "metadata": {},
   "outputs": [
    {
     "name": "stdout",
     "output_type": "stream",
     "text": [
      "128\n",
      "a\n"
     ]
    }
   ],
   "source": [
    "# 145.92.137.88\n",
    "# 255.255.240.0\n",
    "\n",
    "# 145.92.?.0\n",
    "\n",
    "a = 137\n",
    "b = 240\n",
    "\n",
    "c = a&b\n",
    "\n",
    "print(c)\n",
    "print('a')"
   ]
  },
  {
   "cell_type": "code",
   "execution_count": 7,
   "metadata": {},
   "outputs": [
    {
     "name": "stdout",
     "output_type": "stream",
     "text": [
      "252 252\n"
     ]
    }
   ],
   "source": [
    "a=252\n",
    "b=252\n",
    "\n",
    "print(a, b)"
   ]
  }
 ],
 "metadata": {
  "kernelspec": {
   "display_name": "Python 3",
   "language": "python",
   "name": "python3"
  },
  "language_info": {
   "codemirror_mode": {
    "name": "ipython",
    "version": 3
   },
   "file_extension": ".py",
   "mimetype": "text/x-python",
   "name": "python",
   "nbconvert_exporter": "python",
   "pygments_lexer": "ipython3",
   "version": "3.11.0"
  }
 },
 "nbformat": 4,
 "nbformat_minor": 2
}
