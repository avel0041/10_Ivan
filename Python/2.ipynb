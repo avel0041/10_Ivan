{
 "cells": [
  {
   "cell_type": "markdown",
   "metadata": {},
   "source": [
    "### Вводный урок Python"
   ]
  },
  {
   "cell_type": "markdown",
   "metadata": {},
   "source": [
    "#### Переменная"
   ]
  },
  {
   "cell_type": "code",
   "execution_count": 2,
   "metadata": {},
   "outputs": [
    {
     "name": "stdout",
     "output_type": "stream",
     "text": [
      "5\n"
     ]
    }
   ],
   "source": [
    "a = 4/3\n",
    "a = \"str\"\n",
    "b = 4\n",
    "a = b\n",
    "a = a + 1\n",
    "print(a)"
   ]
  },
  {
   "cell_type": "markdown",
   "metadata": {},
   "source": [
    "##### Задача  \n",
    "Поменяй значения переменных местами"
   ]
  },
  {
   "cell_type": "code",
   "execution_count": 7,
   "metadata": {},
   "outputs": [
    {
     "name": "stdout",
     "output_type": "stream",
     "text": [
      "3 2\n"
     ]
    }
   ],
   "source": [
    "a = 2\n",
    "b = 3\n",
    "\n",
    "c = a\n",
    "a = b\n",
    "b = c\n",
    "\n",
    "a = 2\n",
    "b = 3\n",
    "\n",
    "a, b = b, a\n",
    "print(a, b)"
   ]
  },
  {
   "cell_type": "markdown",
   "metadata": {},
   "source": [
    "#### Операции с переменными"
   ]
  },
  {
   "cell_type": "code",
   "execution_count": null,
   "metadata": {},
   "outputs": [],
   "source": [
    "a = 12\n",
    "b = 4\n",
    "c = a*b\n",
    "c = a-b\n",
    "c = a+b\n",
    "c = a/b\n",
    "c = a**b\n",
    "c = a%b\n",
    "c = a//b"
   ]
  },
  {
   "cell_type": "markdown",
   "metadata": {},
   "source": [
    "#### Пользовательский ввод"
   ]
  },
  {
   "cell_type": "code",
   "execution_count": 8,
   "metadata": {},
   "outputs": [
    {
     "name": "stdout",
     "output_type": "stream",
     "text": [
      "10\n"
     ]
    }
   ],
   "source": [
    "a = input()\n",
    "print(a)"
   ]
  },
  {
   "cell_type": "markdown",
   "metadata": {},
   "source": [
    "##### Задача\n",
    "Подсчитай сколько дней, часов, минут и секунд в указанном количестве секунд."
   ]
  },
  {
   "cell_type": "code",
   "execution_count": 17,
   "metadata": {},
   "outputs": [
    {
     "name": "stdout",
     "output_type": "stream",
     "text": [
      "Количесвто дней 1428\n",
      "кол-во часов 21\n",
      "кол-во минут 33\n",
      "кол-во секунд 9\n"
     ]
    }
   ],
   "source": [
    "a = input()\n",
    "a = int(a)\n",
    "\n",
    "b = a//86400\n",
    "print(\"Количесвто дней\", b)\n",
    "\n",
    "print(\"кол-во часов\" , a//3600%24)\n",
    "\n",
    "x = a//60%60\n",
    "print(\"кол-во минут\" , x)\n",
    "\n",
    "z = a//1%60\n",
    "print(\"кол-во секунд\" , z)"
   ]
  },
  {
   "cell_type": "markdown",
   "metadata": {},
   "source": [
    "#### Работа с print()"
   ]
  },
  {
   "cell_type": "code",
   "execution_count": null,
   "metadata": {},
   "outputs": [],
   "source": [
    "print(2**20)\n",
    "print()\n",
    "print(2)\n",
    "print(1,2,3)\n",
    "print(1,2,3,sep='')\n",
    "print(1, end=' ')\n",
    "print(2)"
   ]
  },
  {
   "cell_type": "markdown",
   "metadata": {},
   "source": [
    "#### Условный оператор"
   ]
  },
  {
   "cell_type": "code",
   "execution_count": null,
   "metadata": {},
   "outputs": [],
   "source": [
    "#if a == 10:\n",
    "#if a >= 10\n",
    "#if a > 10\n",
    "#if a != 10\n",
    "\n",
    "#if a > 1 and a < 10\n",
    "#if a > 10 or a < 5\n",
    "a = input()\n",
    "a = int(a)\n",
    "\n",
    "if a == 10:\n",
    "    print('А равно 10')\n",
    "elif a == 9:\n",
    "    print('A равно 9')\n",
    "elif a == 8:\n",
    "    print('A равно 8')\n",
    "else:\n",
    "    print('А не равно 8,9,10')"
   ]
  },
  {
   "cell_type": "markdown",
   "metadata": {},
   "source": [
    "Безумный титан Танос собрал все 6 камней бесконечности и намеревается уничтожить половину населения Вселенной по щелчку пальцев. При этом если население Вселенной является нечетным числом, то титан проявит милосердие и округлит количество выживших в большую сторону. Помогите Мстителям подсчитать количество выживших."
   ]
  },
  {
   "cell_type": "code",
   "execution_count": null,
   "metadata": {},
   "outputs": [],
   "source": [
    "a = input()\n",
    "a = int (a)\n",
    "if a%2 == 1:\n",
    "    print (a//2+1)\n",
    "else:\n",
    "    print(int(a/2))"
   ]
  },
  {
   "cell_type": "markdown",
   "metadata": {},
   "source": [
    "Камера наблюдения регистрирует в автоматическом режиме скорость проезжающих мимо нее автомобилей, округляя значения скорости до целых чисел. Камера зафиксировала 3 проезжающих автомобиля и записала их скорости в соответствующие переменные. Необходимо определить минимальную скорость из трёх автомобилей. Если скорость хотя бы одного автомобиля была больше 80 км/ч, выведите «YES», иначе выведите «NO»."
   ]
  },
  {
   "cell_type": "code",
   "execution_count": null,
   "metadata": {},
   "outputs": [],
   "source": [
    "a=input()\n",
    "a=int(a)\n",
    "b=input()\n",
    "b=int(b)\n",
    "c = int(input())\n",
    "if (a>80 or b>80 or c>80):\n",
    "    print('YES')\n",
    "else:\n",
    "    print('NO')\n",
    "    \n",
    "if (a<=b and a<=c):\n",
    "    print(a)\n",
    "elif (b<=a and b<=c):\n",
    "    print(b)\n",
    "elif (c<=a and c<=b):\n",
    "    print(c)"
   ]
  },
  {
   "cell_type": "markdown",
   "metadata": {},
   "source": [
    "Введите с клавиатуры 3 положительных целых чисел. Вычислите сумму тех из них, которые делятся на 4 и при этом заканчиваются на 6. Программа должна вывести одно число: сумму чисел, введенных с клавиатуры, кратных 4 и оканчивающихся на 6."
   ]
  },
  {
   "cell_type": "code",
   "execution_count": null,
   "metadata": {},
   "outputs": [],
   "source": [
    "a=int(input())\n",
    "b=int(input())\n",
    "c=int(input())\n",
    "q=0\n",
    "if (a%4==0 and a%10==6):\n",
    "    q=q+a\n",
    "if (b%4==0 and b%10==6):\n",
    "    q=q+b\n",
    "if (c%4==0 and c%10==6):\n",
    "    q=q+c\n",
    "print(q)"
   ]
  },
  {
   "cell_type": "markdown",
   "metadata": {},
   "source": [
    "### ДЗ"
   ]
  },
  {
   "cell_type": "markdown",
   "metadata": {},
   "source": [
    "Считается, что один год, прожитый собакой, эквивалентен семи человеческим годам. При этом зачастую не учитывается, что собаки становятся\n",
    "абсолютно взрослыми уже к двум годам. Таким образом, многие предпочитают каждый из первых двух лет жизни собаки приравнивать к 10,5 года\n",
    "человеческой жизни, а все последующие – к четырем.  \n",
    "Напишите программу, которая будет переводить человеческий возраст\n",
    "в  собачий с  учетом указанной выше логики. Убедитесь, что программа\n",
    "корректно работает при пересчете возраста собаки меньше и больше двух\n",
    "лет. Также программа должна выводить сообщение об ошибке, если пользователь ввел отрицательное число."
   ]
  },
  {
   "cell_type": "code",
   "execution_count": 5,
   "metadata": {},
   "outputs": [
    {
     "name": "stdout",
     "output_type": "stream",
     "text": [
      "33.0\n"
     ]
    }
   ],
   "source": [
    "a=int(input())\n",
    "if(a<0):\n",
    "    print(\"error\")\n",
    "elif(a<2):\n",
    "    print(a*10.5)\n",
    "else:\n",
    "    b=10.5*2 + (a-2)*4\n",
    "    print(b)\n"
   ]
  },
  {
   "cell_type": "markdown",
   "metadata": {},
   "source": [
    "Количество дней в месяце варьируется от 28 до 31. Очередная ваша программа должна запрашивать у пользователя название месяца и отображать количество дней в нем. Поскольку годы мы не учитываем, для февраля можно вывести сообщение о том, что этот месяц может состоять как\n",
    "из 28, так и из 29 дней, чтобы учесть фактор високосного года.  \n",
    "Постарайся написать программу не используя 12 конструкций if"
   ]
  },
  {
   "cell_type": "code",
   "execution_count": null,
   "metadata": {},
   "outputs": [],
   "source": [
    "a=input()\n",
    "if(a=='январь' or a=='март'):\n",
    "    print(31)\n",
    "elif(a=='февраль'):\n",
    "    print(28)\n"
   ]
  },
  {
   "cell_type": "markdown",
   "metadata": {},
   "source": [
    "По координате клетки шахматной доски определить её цвет. Постарайся сделать программу наиболее оптимальной, без лишнего кода. То, как пользователь будет вводить координату клетки можешь решить сам."
   ]
  },
  {
   "cell_type": "code",
   "execution_count": 6,
   "metadata": {},
   "outputs": [
    {
     "name": "stdout",
     "output_type": "stream",
     "text": [
      "Черная клетка\n"
     ]
    }
   ],
   "source": [
    "a=int(input())\n",
    "b=int(input())\n",
    "if (a+b)%2==0:\n",
    "    print(\"Черная клетка\")\n",
    "else:\n",
    "    print(\"Белая клетка\")"
   ]
  },
  {
   "cell_type": "markdown",
   "metadata": {},
   "source": [
    "#### Строки"
   ]
  },
  {
   "cell_type": "code",
   "execution_count": 25,
   "metadata": {},
   "outputs": [
    {
     "name": "stdout",
     "output_type": "stream",
     "text": [
      "Т\n",
      "Тестовая строка22\n",
      "222222\n",
      "буква а  есть в строке\n",
      "15\n",
      "2\n",
      "Тесюовая строка\n",
      "Тесто\n",
      "к\n",
      "Тсоа тоа\n",
      "13579\n"
     ]
    }
   ],
   "source": [
    "s = 'Тестовая строка'\n",
    "s2 = '22'\n",
    "\n",
    "print(s[0])\n",
    "print(s + s2)\n",
    "print(s2 * 3)\n",
    "\n",
    "if ('а' in s):\n",
    "    print('буква а  есть в строке')\n",
    "\n",
    "if 'а' not in s:\n",
    "    print('Буква а не в строке')\n",
    "\n",
    "print(len(s)) # сколько символов в строке\n",
    "\n",
    "print(s.count('т'))\n",
    "\n",
    "print(s.replace('т', 'ю', 1))\n",
    "\n",
    "print(s[0:5])\n",
    "\n",
    "print(s[-2])\n",
    "\n",
    "print(s[::2])\n",
    "\n",
    "s = '123456789'\n",
    "print(s[::2])"
   ]
  },
  {
   "cell_type": "markdown",
   "metadata": {},
   "source": [
    "Дана строка s. Если длина строки четная, то вставить в середину строки букву 'a'. Если нечётная, то заменить последний символ строки на букву 'b'"
   ]
  },
  {
   "cell_type": "code",
   "execution_count": 27,
   "metadata": {},
   "outputs": [
    {
     "name": "stdout",
     "output_type": "stream",
     "text": [
      "Хорaошо\n"
     ]
    }
   ],
   "source": [
    "s=input()\n",
    "if len(s)%2==0:\n",
    "    print(s[0:len(s)//2]+\"a\"+s[len(s)//2:])\n",
    "else:\n",
    "    print(s[0:-1]+\"b\")"
   ]
  },
  {
   "cell_type": "code",
   "execution_count": 28,
   "metadata": {},
   "outputs": [
    {
     "name": "stdout",
     "output_type": "stream",
     "text": [
      "ПИФ\n"
     ]
    }
   ],
   "source": [
    "a=input()\n",
    "b=input()\n",
    "c=input()\n",
    "print(a[0]+b[0]+c[0])"
   ]
  },
  {
   "cell_type": "code",
   "execution_count": 32,
   "metadata": {},
   "outputs": [
    {
     "name": "stdout",
     "output_type": "stream",
     "text": [
      "987654321\n"
     ]
    }
   ],
   "source": [
    "s = '123456789'\n",
    "\n",
    "print(s[::-1])"
   ]
  }
 ],
 "metadata": {
  "kernelspec": {
   "display_name": "Python 3",
   "language": "python",
   "name": "python3"
  },
  "language_info": {
   "codemirror_mode": {
    "name": "ipython",
    "version": 3
   },
   "file_extension": ".py",
   "mimetype": "text/x-python",
   "name": "python",
   "nbconvert_exporter": "python",
   "pygments_lexer": "ipython3",
   "version": "3.11.0"
  }
 },
 "nbformat": 4,
 "nbformat_minor": 2
}
